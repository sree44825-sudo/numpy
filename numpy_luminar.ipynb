{
  "nbformat": 4,
  "nbformat_minor": 0,
  "metadata": {
    "colab": {
      "provenance": [],
      "authorship_tag": "ABX9TyNI6bQ17yGBLxcfOtxC2j6L",
      "include_colab_link": true
    },
    "kernelspec": {
      "name": "python3",
      "display_name": "Python 3"
    },
    "language_info": {
      "name": "python"
    }
  },
  "cells": [
    {
      "cell_type": "markdown",
      "metadata": {
        "id": "view-in-github",
        "colab_type": "text"
      },
      "source": [
        "<a href=\"https://colab.research.google.com/github/sree44825-sudo/numpy/blob/main/numpy_luminar.ipynb\" target=\"_parent\"><img src=\"https://colab.research.google.com/assets/colab-badge.svg\" alt=\"Open In Colab\"/></a>"
      ]
    },
    {
      "cell_type": "code",
      "execution_count": null,
      "metadata": {
        "colab": {
          "base_uri": "https://localhost:8080/"
        },
        "id": "SEPz0OYkFR7U",
        "outputId": "445fe7b1-2823-4ded-9d0c-5887d176b328"
      },
      "outputs": [
        {
          "output_type": "stream",
          "name": "stdout",
          "text": [
            "['1' '2' '3.0' '4' 'a']\n"
          ]
        }
      ],
      "source": [
        "import numpy as np  # numerical python\n",
        "\n",
        "#array : collection of data with same datatype (Homogenious)\n",
        "\n",
        "a=np.array([1,2,3,4])\n",
        "a\n",
        "a=np.array([1,2,3.0,4])\n",
        "a\n",
        "a=np.array([1,2,3.0,4,\"a\"])\n",
        "print(a)\n"
      ]
    },
    {
      "cell_type": "code",
      "source": [
        "#slicing\n",
        "#slicing forward, backward slicing\n",
        "\n",
        "import numpy as np\n",
        "\n",
        "a=np.array([1,2,3,4,5])\n",
        "print(a[2:3])\n",
        "#1,2\n",
        "a=np.array([1,2,3,4,5])\n",
        "print(a[0:2])\n",
        "#5,4\n",
        "a=np.array([1,2,3,4,5])\n",
        "print(a[-1:-3:-1])\n",
        "#4,5\n",
        "a=np.array([1,2,3,4,5])\n",
        "print(a[3::])\n",
        "#2,1\n",
        "a=np.array([1,2,3,4,5])\n",
        "print(a[-4::-1])\n"
      ],
      "metadata": {
        "colab": {
          "base_uri": "https://localhost:8080/"
        },
        "id": "7Uz2TqgFGe_d",
        "outputId": "a3d73f19-195c-4295-f03f-6fe1fa2bc013"
      },
      "execution_count": null,
      "outputs": [
        {
          "output_type": "stream",
          "name": "stdout",
          "text": [
            "[3]\n",
            "[1 2]\n",
            "[5 4]\n",
            "[4 5]\n",
            "[2 1]\n"
          ]
        }
      ]
    },
    {
      "cell_type": "code",
      "source": [
        "#dimension\n",
        "\n",
        "a=np.array([0,1,2,3,4,5])\n",
        "b=np.array([[1,2],[3,4]])\n",
        "\n",
        "print(a.ndim)  #dimension =1 vector\n",
        "print(b.ndim)  #dimension =2 matrix\n",
        "\n",
        "print(b)\n",
        "\n",
        "print(b.shape)  #To know how many rows and columns"
      ],
      "metadata": {
        "colab": {
          "base_uri": "https://localhost:8080/"
        },
        "id": "wF8NpbP1HkuQ",
        "outputId": "7fb1d9ff-e881-454d-8383-ff007b5e9c1a"
      },
      "execution_count": null,
      "outputs": [
        {
          "output_type": "stream",
          "name": "stdout",
          "text": [
            "1\n",
            "2\n",
            "[[1 2]\n",
            " [3 4]]\n",
            "(2, 2)\n"
          ]
        }
      ]
    },
    {
      "cell_type": "code",
      "source": [
        "#create a 2*2 matrix 2,3 4,5\n",
        "\n",
        "import numpy as np\n",
        "\n",
        "a=np.array([[2,3],[4,5]])\n",
        "print(a)\n",
        "print(a.ndim)\n",
        "print(a.shape)\n",
        "print(a.size)"
      ],
      "metadata": {
        "colab": {
          "base_uri": "https://localhost:8080/"
        },
        "id": "zKBji3UaJNlY",
        "outputId": "21ee60c1-43db-46c1-ff32-d96d4cb12106"
      },
      "execution_count": null,
      "outputs": [
        {
          "output_type": "stream",
          "name": "stdout",
          "text": [
            "[[2 3]\n",
            " [4 5]]\n",
            "2\n",
            "(2, 2)\n",
            "4\n"
          ]
        }
      ]
    },
    {
      "cell_type": "code",
      "source": [
        "#create a 2*3 matrix and print ,size, shape, dimension\n",
        "\n",
        "import numpy as np\n",
        "\n",
        "a=np.array([[1,2,3],[4,5,6]])\n",
        "\n",
        "print(a)\n",
        "print(a.ndim)  #To find how many dimension\n",
        "print(a.shape) #To find how many columns and rows\n",
        "print(a.size)"
      ],
      "metadata": {
        "colab": {
          "base_uri": "https://localhost:8080/"
        },
        "id": "4wJT1HaJKuEQ",
        "outputId": "34dd92cb-cf43-4ec4-b604-a8d81a6c7885"
      },
      "execution_count": null,
      "outputs": [
        {
          "output_type": "stream",
          "name": "stdout",
          "text": [
            "[[1 2 3]\n",
            " [4 5 6]]\n",
            "2\n",
            "(2, 3)\n",
            "6\n"
          ]
        }
      ]
    },
    {
      "cell_type": "code",
      "source": [
        "#create a 4*2 matrix display its size , shape , dimension\n",
        "\n",
        "import numpy as np\n",
        "\n",
        "a=np.array([[1,2],[3,4],[5,6],[7,8]])\n",
        "print(a)\n",
        "print(a.shape)\n",
        "print(a.ndim)"
      ],
      "metadata": {
        "colab": {
          "base_uri": "https://localhost:8080/"
        },
        "id": "oRFaUxHDLyr-",
        "outputId": "fb9d3d75-94c5-4898-c15d-eca87a2b5b42"
      },
      "execution_count": null,
      "outputs": [
        {
          "output_type": "stream",
          "name": "stdout",
          "text": [
            "[[1 2]\n",
            " [3 4]\n",
            " [5 6]\n",
            " [7 8]]\n",
            "(4, 2)\n",
            "2\n"
          ]
        }
      ]
    },
    {
      "cell_type": "code",
      "source": [
        "#create a  4*4 matrix\n",
        "\n",
        "import numpy as np\n",
        "\n",
        "z=np.array([[1,2,3,4],[5,6,7,8],[9,8,7,6],[5,4,3,2]])\n",
        "print(z)\n",
        "print(z.ndim)\n",
        "print(z.shape)\n",
        "print(z.size)\n",
        "print(z[0])  #To access the specific row\n",
        "print(z[:,0]) #To accesss specific column\n",
        "print(z[1,3])\n",
        "print(z[3,2:])\n",
        "print(z[2:,2:])\n",
        "print(z[3,1:3])\n",
        "print(z[1:4,3])\n",
        "print(z[:0,1])"
      ],
      "metadata": {
        "colab": {
          "base_uri": "https://localhost:8080/"
        },
        "id": "mmUB8KB5NkPS",
        "outputId": "b3862274-1e76-4c10-dabf-0abc27fbfcbe"
      },
      "execution_count": null,
      "outputs": [
        {
          "output_type": "stream",
          "name": "stdout",
          "text": [
            "[[1 2 3 4]\n",
            " [5 6 7 8]\n",
            " [9 8 7 6]\n",
            " [5 4 3 2]]\n",
            "2\n",
            "(4, 4)\n",
            "16\n",
            "[1 2 3 4]\n",
            "[1 5 9 5]\n",
            "8\n",
            "[3 2]\n",
            "[[7 6]\n",
            " [3 2]]\n",
            "[4 3]\n",
            "[8 6 2]\n",
            "[]\n"
          ]
        }
      ]
    },
    {
      "cell_type": "code",
      "source": [
        "#zero matrix\n",
        "\n",
        "z=np.zeros([3,3])\n",
        "\n",
        "print(z)"
      ],
      "metadata": {
        "id": "NNNs59eeMuu8",
        "colab": {
          "base_uri": "https://localhost:8080/"
        },
        "outputId": "86b8d41e-f73b-43b0-e71e-d7fd7c5a149c"
      },
      "execution_count": null,
      "outputs": [
        {
          "output_type": "stream",
          "name": "stdout",
          "text": [
            "[[0. 0. 0.]\n",
            " [0. 0. 0.]\n",
            " [0. 0. 0.]]\n"
          ]
        }
      ]
    },
    {
      "cell_type": "code",
      "source": [
        "z=np.zeros([3,3],dtype=complex)\n",
        "print(z)"
      ],
      "metadata": {
        "colab": {
          "base_uri": "https://localhost:8080/"
        },
        "id": "wA43F11zFP0X",
        "outputId": "75701013-15a4-4617-a3b9-01625f044717"
      },
      "execution_count": null,
      "outputs": [
        {
          "output_type": "stream",
          "name": "stdout",
          "text": [
            "[[0.+0.j 0.+0.j 0.+0.j]\n",
            " [0.+0.j 0.+0.j 0.+0.j]\n",
            " [0.+0.j 0.+0.j 0.+0.j]]\n"
          ]
        }
      ]
    },
    {
      "cell_type": "code",
      "source": [
        "#one matrix\n",
        "\n",
        "z=np.ones([3,3])\n",
        "print(z)"
      ],
      "metadata": {
        "colab": {
          "base_uri": "https://localhost:8080/"
        },
        "id": "d36dq1uYKiu9",
        "outputId": "40d1e4a8-6ee2-4cbf-f9fa-4f654ec7db5e"
      },
      "execution_count": null,
      "outputs": [
        {
          "output_type": "stream",
          "name": "stdout",
          "text": [
            "[[1. 1. 1.]\n",
            " [1. 1. 1.]\n",
            " [1. 1. 1.]]\n"
          ]
        }
      ]
    },
    {
      "cell_type": "code",
      "source": [
        "z=np.ones([3,3],dtype=complex)\n",
        "print(z)"
      ],
      "metadata": {
        "colab": {
          "base_uri": "https://localhost:8080/"
        },
        "id": "AMaLN4IFKppX",
        "outputId": "b6b1ae67-1c93-44e6-80fc-047a7542a9d0"
      },
      "execution_count": null,
      "outputs": [
        {
          "output_type": "stream",
          "name": "stdout",
          "text": [
            "[[1.+0.j 1.+0.j 1.+0.j]\n",
            " [1.+0.j 1.+0.j 1.+0.j]\n",
            " [1.+0.j 1.+0.j 1.+0.j]]\n"
          ]
        }
      ]
    },
    {
      "cell_type": "code",
      "source": [
        "#create two 2*2 matrix\n",
        "\n",
        "import numpy as np\n",
        "a=np.array([[1,2],[2,3]])\n",
        "b=np.array([[4,5],[6,7]])\n",
        "print(a)\n",
        "print(b)"
      ],
      "metadata": {
        "colab": {
          "base_uri": "https://localhost:8080/"
        },
        "id": "aT2dRYglKu5O",
        "outputId": "d26d8b91-db7c-4ff7-d69d-3bafecea4cce"
      },
      "execution_count": null,
      "outputs": [
        {
          "output_type": "stream",
          "name": "stdout",
          "text": [
            "[[1 2]\n",
            " [2 3]]\n",
            "[[4 5]\n",
            " [6 7]]\n"
          ]
        }
      ]
    },
    {
      "cell_type": "code",
      "source": [
        "#matrix addition\n",
        "\n",
        "print(a+b)"
      ],
      "metadata": {
        "colab": {
          "base_uri": "https://localhost:8080/"
        },
        "id": "YtHjIH_xK_OB",
        "outputId": "becdf78b-895b-4b3d-e47a-1e502121fd4a"
      },
      "execution_count": null,
      "outputs": [
        {
          "output_type": "stream",
          "name": "stdout",
          "text": [
            "[[ 5  7]\n",
            " [ 8 10]]\n"
          ]
        }
      ]
    },
    {
      "cell_type": "code",
      "source": [
        "#matrix substraction\n",
        "\n",
        "print(a-b)"
      ],
      "metadata": {
        "colab": {
          "base_uri": "https://localhost:8080/"
        },
        "id": "xOpohLpuLXZv",
        "outputId": "64adab1a-b932-4a73-f2c8-7872ccdfd686"
      },
      "execution_count": null,
      "outputs": [
        {
          "output_type": "stream",
          "name": "stdout",
          "text": [
            "[[-3 -3]\n",
            " [-4 -4]]\n"
          ]
        }
      ]
    },
    {
      "cell_type": "code",
      "source": [
        "#matrix multiplication\n",
        "\n",
        "print(a*b)  #Not a matrix multiplication\n",
        "print()\n",
        "print(a@b)  #Correct matrix multiplication\n",
        "print()\n",
        "print(a.dot(b)) #matrix multiplication\n",
        "print()\n",
        "print(a/b) # matrix division     #Those starting with __ are called magic"
      ],
      "metadata": {
        "colab": {
          "base_uri": "https://localhost:8080/"
        },
        "id": "sLSk3GEkLt3u",
        "outputId": "60396858-d03f-4772-b606-246cc49e6a66"
      },
      "execution_count": null,
      "outputs": [
        {
          "output_type": "stream",
          "name": "stdout",
          "text": [
            "[[ 4 10]\n",
            " [12 21]]\n",
            "\n",
            "[[16 19]\n",
            " [26 31]]\n",
            "\n",
            "[[16 19]\n",
            " [26 31]]\n",
            "\n",
            "[[0.25       0.4       ]\n",
            " [0.33333333 0.42857143]]\n"
          ]
        }
      ]
    },
    {
      "cell_type": "code",
      "source": [
        "#full matrix\n",
        "\n",
        "z=np.full([3,3],4,dtype=int)  #if all the elements  in the matrix is same its called  full matrix\n",
        "\n",
        "print(z)"
      ],
      "metadata": {
        "colab": {
          "base_uri": "https://localhost:8080/"
        },
        "id": "gzlAs2hjMHhu",
        "outputId": "4933e4c1-9cc7-4688-e9c7-88a7e281f628"
      },
      "execution_count": null,
      "outputs": [
        {
          "output_type": "stream",
          "name": "stdout",
          "text": [
            "[[4 4 4]\n",
            " [4 4 4]\n",
            " [4 4 4]]\n"
          ]
        }
      ]
    },
    {
      "cell_type": "code",
      "source": [
        "#create 3x4 matrix with value 9 and datatype complex\n",
        "\n",
        "import numpy as np\n",
        "a=np.full([3,4],9,dtype=complex)\n",
        "print(a)"
      ],
      "metadata": {
        "colab": {
          "base_uri": "https://localhost:8080/"
        },
        "id": "a2my31X-N62r",
        "outputId": "1d5a28ab-81d0-40bc-fcf8-16a774b518dd"
      },
      "execution_count": null,
      "outputs": [
        {
          "output_type": "stream",
          "name": "stdout",
          "text": [
            "[[9.+0.j 9.+0.j 9.+0.j 9.+0.j]\n",
            " [9.+0.j 9.+0.j 9.+0.j 9.+0.j]\n",
            " [9.+0.j 9.+0.j 9.+0.j 9.+0.j]]\n"
          ]
        }
      ]
    },
    {
      "cell_type": "code",
      "source": [
        "#identity matrix\n",
        "\n",
        "a=np.identity(3)\n",
        "print(a)\n",
        "print()\n",
        "z=np.eye(3)\n",
        "print(a)"
      ],
      "metadata": {
        "colab": {
          "base_uri": "https://localhost:8080/"
        },
        "id": "bx-Kt8HfPB82",
        "outputId": "1b5dfee5-d16c-46af-9399-fdf5d4dc8e23"
      },
      "execution_count": null,
      "outputs": [
        {
          "output_type": "stream",
          "name": "stdout",
          "text": [
            "[[1. 0. 0.]\n",
            " [0. 1. 0.]\n",
            " [0. 0. 1.]]\n",
            "\n",
            "[[1. 0. 0.]\n",
            " [0. 1. 0.]\n",
            " [0. 0. 1.]]\n"
          ]
        }
      ]
    },
    {
      "cell_type": "code",
      "source": [
        "#create a 4x4 matrix\n",
        "\n",
        "a=np.array([[1,2,3,4],[5,6,7,8],[9,8,7,6],[5,4,3,2]])\n",
        "print(a)\n",
        "print()\n",
        "print(a.size)\n",
        "print()\n"
      ],
      "metadata": {
        "colab": {
          "base_uri": "https://localhost:8080/"
        },
        "id": "QMbE2HNaQGlh",
        "outputId": "e218bd41-de86-413c-9b95-fa64fd67ceea"
      },
      "execution_count": null,
      "outputs": [
        {
          "output_type": "stream",
          "name": "stdout",
          "text": [
            "[[1 2 3 4]\n",
            " [5 6 7 8]\n",
            " [9 8 7 6]\n",
            " [5 4 3 2]]\n",
            "\n",
            "16\n",
            "\n"
          ]
        }
      ]
    },
    {
      "cell_type": "code",
      "source": [
        "b=a.reshape(8,2)  #reshape can change the shape of the matrix\n",
        "print(b)"
      ],
      "metadata": {
        "colab": {
          "base_uri": "https://localhost:8080/"
        },
        "id": "SjST8_DjQ68-",
        "outputId": "128645ca-6095-4e20-e2d4-5bc685759133"
      },
      "execution_count": null,
      "outputs": [
        {
          "output_type": "stream",
          "name": "stdout",
          "text": [
            "[[1 2]\n",
            " [3 4]\n",
            " [5 6]\n",
            " [7 8]\n",
            " [9 8]\n",
            " [7 6]\n",
            " [5 4]\n",
            " [3 2]]\n"
          ]
        }
      ]
    },
    {
      "cell_type": "code",
      "source": [
        "#arange    arrange a particular range of numbers\n",
        "\n",
        "a=np.arange(1,10,2)\n",
        "print(a)"
      ],
      "metadata": {
        "colab": {
          "base_uri": "https://localhost:8080/"
        },
        "id": "4YbVarBQRhFq",
        "outputId": "cda53c0e-0879-48d1-bef7-5c7c679c3fed"
      },
      "execution_count": null,
      "outputs": [
        {
          "output_type": "stream",
          "name": "stdout",
          "text": [
            "[1 3 5 7 9]\n"
          ]
        }
      ]
    },
    {
      "cell_type": "code",
      "source": [
        "#create a 5x2 matrix using arange\n",
        "\n",
        "a=np.arange(1,11).reshape(5,2)\n",
        "print(a)"
      ],
      "metadata": {
        "colab": {
          "base_uri": "https://localhost:8080/"
        },
        "id": "upvgw5EISNN_",
        "outputId": "eb9e7626-88ae-4925-ffeb-926ecca1139c"
      },
      "execution_count": null,
      "outputs": [
        {
          "output_type": "stream",
          "name": "stdout",
          "text": [
            "[[ 1  2]\n",
            " [ 3  4]\n",
            " [ 5  6]\n",
            " [ 7  8]\n",
            " [ 9 10]]\n"
          ]
        }
      ]
    },
    {
      "cell_type": "code",
      "source": [
        "#create a 3x3 matrix with float values\n",
        "\n",
        "a=np.array([[1.1,2.2,3.3],[4.4,5.5,6.6],[7.7,8.8,9.9]])\n",
        "print(a)\n"
      ],
      "metadata": {
        "colab": {
          "base_uri": "https://localhost:8080/"
        },
        "id": "8ykat8gXS-K1",
        "outputId": "8cb9a0e3-fc81-426e-820a-7d6188a95863"
      },
      "execution_count": null,
      "outputs": [
        {
          "output_type": "stream",
          "name": "stdout",
          "text": [
            "[[1.1 2.2 3.3]\n",
            " [4.4 5.5 6.6]\n",
            " [7.7 8.8 9.9]]\n"
          ]
        }
      ]
    },
    {
      "cell_type": "code",
      "source": [
        "#floor\n",
        "\n",
        "z=np.floor(a)\n",
        "print(z)"
      ],
      "metadata": {
        "colab": {
          "base_uri": "https://localhost:8080/"
        },
        "id": "Yi8BFbyLTrcK",
        "outputId": "e60b32dc-2cd5-4450-c40f-7d6f63d44e68"
      },
      "execution_count": null,
      "outputs": [
        {
          "output_type": "stream",
          "name": "stdout",
          "text": [
            "[[1. 2. 3.]\n",
            " [4. 5. 6.]\n",
            " [7. 8. 9.]]\n"
          ]
        }
      ]
    },
    {
      "cell_type": "code",
      "source": [
        "#ceil\n",
        "\n",
        "y=np.ceil(a)\n",
        "print(y)"
      ],
      "metadata": {
        "colab": {
          "base_uri": "https://localhost:8080/"
        },
        "id": "e4wN7gJVU2ae",
        "outputId": "73d3f0f9-7d33-4b64-91b3-a0e57bd32212"
      },
      "execution_count": null,
      "outputs": [
        {
          "output_type": "stream",
          "name": "stdout",
          "text": [
            "[[ 2.  3.  4.]\n",
            " [ 5.  6.  7.]\n",
            " [ 8.  9. 10.]]\n"
          ]
        }
      ]
    },
    {
      "cell_type": "code",
      "source": [
        "#round\n",
        "\n",
        "y=np.round(a)\n",
        "print(y)\n",
        "\n",
        "#incase of .5 it round towards even number eg 3.5 -> 4"
      ],
      "metadata": {
        "colab": {
          "base_uri": "https://localhost:8080/"
        },
        "id": "cbI1SD0SVEkV",
        "outputId": "6970f57c-26ec-4f4b-cf04-fdee6b904d7b"
      },
      "execution_count": null,
      "outputs": [
        {
          "output_type": "stream",
          "name": "stdout",
          "text": [
            "[[ 1.  2.  3.]\n",
            " [ 4.  6.  7.]\n",
            " [ 8.  9. 10.]]\n"
          ]
        }
      ]
    },
    {
      "cell_type": "code",
      "source": [
        "#create a 3x3 matrix\n",
        "\n",
        "a=np.arange(1,10).reshape(3,3)\n",
        "print(a)\n",
        "print()\n",
        "print(a.max())  #To find the maximum value\n",
        "print()\n",
        "print(a.max(axis=1))  #To find the max element in every row(1)\n",
        "print()\n",
        "print(a.max(axis=0))  #To find the max element in every column(0)\n",
        "print()\n",
        "print(a.min())\n",
        "print()\n",
        "print(a.min(axis=1))  #To find the min element in every row(1)\n",
        "print()\n",
        "print(a.min(axis=0))  #To find the min element in every column(0)\n",
        "print()\n",
        "print(a.sum(axis=0))\n",
        "print()\n",
        "print(a.sum(axis=1))\n",
        "print()\n",
        "print(np.sqrt(a))\n",
        "print()\n",
        "print(np.sin(a))\n",
        "print()\n",
        "print(np.cos(a))\n",
        "print()\n",
        "print(np.tan(a))\n",
        "print()\n",
        "\n"
      ],
      "metadata": {
        "colab": {
          "base_uri": "https://localhost:8080/"
        },
        "id": "AOFzXazxWJ0K",
        "outputId": "eae47d22-5ba1-45b7-b2d8-77514c58c906"
      },
      "execution_count": null,
      "outputs": [
        {
          "output_type": "stream",
          "name": "stdout",
          "text": [
            "[[1 2 3]\n",
            " [4 5 6]\n",
            " [7 8 9]]\n",
            "\n",
            "9\n",
            "\n",
            "[3 6 9]\n",
            "\n",
            "[7 8 9]\n",
            "\n",
            "1\n",
            "\n",
            "[1 4 7]\n",
            "\n",
            "[1 2 3]\n",
            "\n",
            "[12 15 18]\n",
            "\n",
            "[ 6 15 24]\n",
            "\n",
            "[[1.         1.41421356 1.73205081]\n",
            " [2.         2.23606798 2.44948974]\n",
            " [2.64575131 2.82842712 3.        ]]\n",
            "\n",
            "[[ 0.84147098  0.90929743  0.14112001]\n",
            " [-0.7568025  -0.95892427 -0.2794155 ]\n",
            " [ 0.6569866   0.98935825  0.41211849]]\n",
            "\n",
            "[[ 0.54030231 -0.41614684 -0.9899925 ]\n",
            " [-0.65364362  0.28366219  0.96017029]\n",
            " [ 0.75390225 -0.14550003 -0.91113026]]\n",
            "\n",
            "[[ 1.55740772 -2.18503986 -0.14254654]\n",
            " [ 1.15782128 -3.38051501 -0.29100619]\n",
            " [ 0.87144798 -6.79971146 -0.45231566]]\n",
            "\n"
          ]
        }
      ]
    },
    {
      "cell_type": "code",
      "source": [
        "print(a.sum(axis=0))\n",
        "print()\n",
        "print(a.sum(axis=1))\n",
        "print()\n",
        "print(np.sqrt(a))\n",
        "print()\n",
        "print(np.sin(a))\n",
        "print()\n",
        "print(np.cos(a))\n",
        "print()\n",
        "print(np.tan(a))\n",
        "print()\n",
        "print(a.flatten())\n",
        "print()"
      ],
      "metadata": {
        "id": "32vqhj8bXGAH",
        "colab": {
          "base_uri": "https://localhost:8080/"
        },
        "outputId": "1b6bf779-edb0-418a-9c4d-bee1b6db2942"
      },
      "execution_count": null,
      "outputs": [
        {
          "output_type": "stream",
          "name": "stdout",
          "text": [
            "[12 15 18]\n",
            "\n",
            "[ 6 15 24]\n",
            "\n",
            "[[1.         1.41421356 1.73205081]\n",
            " [2.         2.23606798 2.44948974]\n",
            " [2.64575131 2.82842712 3.        ]]\n",
            "\n",
            "[[ 0.84147098  0.90929743  0.14112001]\n",
            " [-0.7568025  -0.95892427 -0.2794155 ]\n",
            " [ 0.6569866   0.98935825  0.41211849]]\n",
            "\n",
            "[[ 0.54030231 -0.41614684 -0.9899925 ]\n",
            " [-0.65364362  0.28366219  0.96017029]\n",
            " [ 0.75390225 -0.14550003 -0.91113026]]\n",
            "\n",
            "[[ 1.55740772 -2.18503986 -0.14254654]\n",
            " [ 1.15782128 -3.38051501 -0.29100619]\n",
            " [ 0.87144798 -6.79971146 -0.45231566]]\n",
            "\n",
            "[1 2 3 4 5 6 7 8 9]\n",
            "\n"
          ]
        }
      ]
    },
    {
      "cell_type": "code",
      "source": [
        "print(a.flatten())"
      ],
      "metadata": {
        "colab": {
          "base_uri": "https://localhost:8080/"
        },
        "id": "QgU3SWQmlBiQ",
        "outputId": "0f3f2175-b2aa-4344-f52c-6e51b77afc87"
      },
      "execution_count": null,
      "outputs": [
        {
          "output_type": "stream",
          "name": "stdout",
          "text": [
            "[1 2 3 4 5 6 7 8 9]\n"
          ]
        }
      ]
    },
    {
      "cell_type": "code",
      "source": [
        "#sort\n",
        "#create a 3x3 matrix\n",
        "\n",
        "import numpy as np\n",
        "a=np.array([[3,4,1],[5,3,1],[6,9,8]])\n",
        "print(a)\n",
        "print()\n",
        "\n",
        "b=np.sort(a,axis=0)\n",
        "print(b)\n",
        "print()\n",
        "\n",
        "c=np.sort(a,axis=1)\n",
        "print(c)\n",
        "print()\n",
        "\n",
        "d=np.argsort(a,axis=1) #index based workinf function\n",
        "print(d)\n",
        "\n"
      ],
      "metadata": {
        "colab": {
          "base_uri": "https://localhost:8080/"
        },
        "id": "raJJXX9cleR9",
        "outputId": "eb2bef9f-a3ac-4efa-bcd7-cc79ba2399b4"
      },
      "execution_count": null,
      "outputs": [
        {
          "output_type": "stream",
          "name": "stdout",
          "text": [
            "[[3 4 1]\n",
            " [5 3 1]\n",
            " [6 9 8]]\n",
            "\n",
            "[[3 3 1]\n",
            " [5 4 1]\n",
            " [6 9 8]]\n",
            "\n",
            "[[1 3 4]\n",
            " [1 3 5]\n",
            " [6 8 9]]\n",
            "\n",
            "[[2 0 1]\n",
            " [2 1 0]\n",
            " [0 2 1]]\n"
          ]
        }
      ]
    },
    {
      "cell_type": "code",
      "source": [],
      "metadata": {
        "id": "0m3kwZkDlyjn"
      },
      "execution_count": null,
      "outputs": []
    }
  ]
}